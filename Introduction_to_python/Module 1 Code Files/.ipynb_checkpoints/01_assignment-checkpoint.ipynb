{
 "cells": [
  {
   "cell_type": "code",
   "execution_count": 5,
   "id": "d91cea91",
   "metadata": {},
   "outputs": [
    {
     "name": "stdout",
     "output_type": "stream",
     "text": [
      "Input dog years: 5\n",
      "5.0\n",
      "The given dog age 5.00 is 36.00 in human years\n"
     ]
    }
   ],
   "source": [
    "import traceback\n",
    "\n",
    "def calculator():\n",
    "    \n",
    "    # Get dog age\n",
    "    age = input(\"Input dog years: \")\n",
    "\n",
    "    try:\n",
    "        # Cast to float\n",
    "        d_age = float(age)\n",
    "        print(d_age)\n",
    "        \n",
    "        # If user enters negative number, print message\n",
    "        if(d_age) < 0 : \n",
    "            print(age, \"is negative\")\n",
    "        # Otherwise, calculate dog's age in human years\n",
    "        # your code here\n",
    "        #For the first year, one dog year is equal to 15 human years\n",
    "        elif( d_age <= 1):\n",
    "            h_age = 15\n",
    "        #For the first 2 years, each dog year is equal to 12 human years\n",
    "        elif(d_age <= 2):\n",
    "            h_age = d_age * 12\n",
    "        #For the first 3 years, each dog year is equal to 9.3 human years\n",
    "        elif(d_age <= 3):\n",
    "            h_age = d_age * 9.3\n",
    "        #For the first 4 years, each dog year is equal to 8 human years\n",
    "        elif(d_age <= 4):\n",
    "            h_age = d_age * 8\n",
    "        #For the first 5 years, each dog year is equal to 7.2 human years\n",
    "        #After that, each dog year is equal to 7 human years. \n",
    "        #(Note: This means the first 5 dog years are equal to 36 human years (5 * 7.2) \n",
    "        #and the remaining dog years are equal to 7 human years each.)\n",
    "        else:\n",
    "            h_age = ( d_age - 5 ) * 7 + 5 * 7.2\n",
    "        print(\"The given dog age {:.2f} is {:.2f} in human years\".format(d_age,h_age))\n",
    "        \n",
    "    except:\n",
    "        print(age, \"is an invalid age.\")\n",
    "        print(traceback.format_exc())\n",
    "    \n",
    "calculator() # This line calls the calculator function"
   ]
  },
  {
   "cell_type": "code",
   "execution_count": null,
   "id": "e67ab485",
   "metadata": {},
   "outputs": [],
   "source": []
  }
 ],
 "metadata": {
  "kernelspec": {
   "display_name": "Python 3 (ipykernel)",
   "language": "python",
   "name": "python3"
  },
  "language_info": {
   "codemirror_mode": {
    "name": "ipython",
    "version": 3
   },
   "file_extension": ".py",
   "mimetype": "text/x-python",
   "name": "python",
   "nbconvert_exporter": "python",
   "pygments_lexer": "ipython3",
   "version": "3.9.10"
  }
 },
 "nbformat": 4,
 "nbformat_minor": 5
}
