{
 "cells": [
  {
   "cell_type": "markdown",
   "metadata": {
    "deletable": false,
    "editable": false,
    "nbgrader": {
     "cell_type": "markdown",
     "checksum": "95ba96b54a07732db3c3cfc856a56929",
     "grade": false,
     "grade_id": "cell-37b1bbf6f43609e8",
     "locked": true,
     "schema_version": 3,
     "solution": false,
     "task": false
    }
   },
   "source": [
    "## Math Practice"
   ]
  },
  {
   "cell_type": "code",
   "execution_count": 3,
   "metadata": {
    "deletable": false,
    "editable": false,
    "nbgrader": {
     "cell_type": "code",
     "checksum": "77018115496cacf0356230ab81911955",
     "grade": true,
     "grade_id": "init",
     "locked": true,
     "points": 0,
     "schema_version": 3,
     "solution": false,
     "task": false
    }
   },
   "outputs": [],
   "source": [
    "#########################################################\n",
    "### EXECUTE THIS CELL BEFORE YOU  TEST YOUR SOLUTIONS ###\n",
    "#########################################################\n",
    "\n",
    "import imp\n",
    "sol = imp.load_compiled(\"sol\", \"./sol.py\")\n",
    "from nose.tools import assert_equal"
   ]
  },
  {
   "cell_type": "markdown",
   "metadata": {
    "deletable": false,
    "editable": false,
    "nbgrader": {
     "cell_type": "markdown",
     "checksum": "19855547013f4a5a72d896b2f0487883",
     "grade": false,
     "grade_id": "cell-b9f190654edbdf09",
     "locked": true,
     "schema_version": 3,
     "solution": false,
     "task": false
    }
   },
   "source": [
    "## A note on variable initialization\n",
    "\n",
    "Variable initialization refers to the act of declaring a variable (giving it a name) and assigning it a value. A variable's name is declared on the left side of the `=` and its value on the right side. This can be done in a single line of code, like the below. Note that a variable's name may not contain spaces or special characters, with the exception of the underscore `_`.\n",
    "\n",
    "```python\n",
    "my_variable = 1\n",
    "```\n",
    "\n",
    "Once initialized, referring to `my_variable` in subsequent lines of code will actually refer to `my_variable`'s value, which has been set to `1`. However, as their name implies, variables can have changing values. For example, we might do something like the below:\n",
    "\n",
    "```python\n",
    "my_variable = 1\n",
    "print(my_variable)     # This will print out the value of my_variable\n",
    "# >>> 1\n",
    "\n",
    "my_variable = 1 * 2    # We've now changed the value of my_variable to be (1 * 2) = 2\n",
    "print(my_variable)\n",
    "# >>> 2\n",
    "```\n",
    "\n",
    "We can also reference a variable's current value in it's own re-assignment! This can be done if the variable has already been assigned a value previously. For example:\n",
    "```python\n",
    "my_variable = my_variable * 3\n",
    "print(my_variable)\n",
    "# >>> 6\n",
    "```\n",
    "What the above line is doing is setting the value of `my_variable` equal to the current value of `my_variable`, which we set to `2`, multiplied by `3`. This ends up being: `my_variable = 2 * 3 = 6`"
   ]
  },
  {
   "cell_type": "markdown",
   "metadata": {
    "deletable": false,
    "editable": false,
    "nbgrader": {
     "cell_type": "markdown",
     "checksum": "40a72379b37d2851d912a2e9c9374c1d",
     "grade": false,
     "grade_id": "cell-3594098eb67312d9",
     "locked": true,
     "schema_version": 3,
     "solution": false,
     "task": false
    }
   },
   "source": [
    "Calculate the result of 3.93 multiplied by 4901 and save it in a variable named 'q1', then print it out."
   ]
  },
  {
   "cell_type": "code",
   "execution_count": 1,
   "metadata": {
    "deletable": false,
    "name": "multiply",
    "nbgrader": {
     "cell_type": "code",
     "checksum": "e3d18f98339b2956d3e5e8426a0aa9f6",
     "grade": false,
     "grade_id": "q1",
     "locked": false,
     "schema_version": 3,
     "solution": true,
     "task": false
    }
   },
   "outputs": [
    {
     "name": "stdout",
     "output_type": "stream",
     "text": [
      "19260.93\n"
     ]
    }
   ],
   "source": [
    "# your code here\n",
    "\n",
    "q1 = 3.93 * 4901 \n",
    "\n",
    "print(q1)"
   ]
  },
  {
   "cell_type": "code",
   "execution_count": 4,
   "metadata": {
    "deletable": false,
    "editable": false,
    "nbgrader": {
     "cell_type": "code",
     "checksum": "08a333858459a8bf17f2f55d866e61d9",
     "grade": true,
     "grade_id": "q1_test",
     "locked": true,
     "points": 1,
     "schema_version": 3,
     "solution": false,
     "task": false
    }
   },
   "outputs": [
    {
     "name": "stdout",
     "output_type": "stream",
     "text": [
      "Success!\n"
     ]
    }
   ],
   "source": [
    "##########################\n",
    "### TEST YOUR SOLUTION ###\n",
    "##########################\n",
    "# Note: All test cases are read-only\n",
    "\n",
    "assert_equal(q1, sol.q1)\n",
    "print(\"Success!\")"
   ]
  },
  {
   "cell_type": "markdown",
   "metadata": {
    "deletable": false,
    "editable": false,
    "nbgrader": {
     "cell_type": "markdown",
     "checksum": "79991ddabaf88cf8b3cadb898886887d",
     "grade": false,
     "grade_id": "cell-bec63c467b3c20c4",
     "locked": true,
     "schema_version": 3,
     "solution": false,
     "task": false
    }
   },
   "source": [
    "Calculate the result of 215 divided by 6 and save it in a variable named 'q2', then print it out."
   ]
  },
  {
   "cell_type": "code",
   "execution_count": 5,
   "metadata": {
    "deletable": false,
    "name": "divide",
    "nbgrader": {
     "cell_type": "code",
     "checksum": "ceb1893a9b1abb179e963591397f3201",
     "grade": false,
     "grade_id": "q2",
     "locked": false,
     "schema_version": 3,
     "solution": true,
     "task": false
    }
   },
   "outputs": [
    {
     "name": "stdout",
     "output_type": "stream",
     "text": [
      "35.833333333333336\n"
     ]
    }
   ],
   "source": [
    "# your code here\n",
    "\n",
    "q2 =  215 / 6\n",
    "\n",
    "print(q2)"
   ]
  },
  {
   "cell_type": "code",
   "execution_count": 6,
   "metadata": {
    "deletable": false,
    "editable": false,
    "nbgrader": {
     "cell_type": "code",
     "checksum": "6b2a38d4d78aad7efbffaa31f5dcc62f",
     "grade": true,
     "grade_id": "q2_test",
     "locked": true,
     "points": 1,
     "schema_version": 3,
     "solution": false,
     "task": false
    }
   },
   "outputs": [
    {
     "name": "stdout",
     "output_type": "stream",
     "text": [
      "Success!\n"
     ]
    }
   ],
   "source": [
    "##########################\n",
    "### TEST YOUR SOLUTION ###\n",
    "##########################\n",
    "\n",
    "assert_equal(q2, sol.q2)\n",
    "print(\"Success!\")"
   ]
  },
  {
   "cell_type": "markdown",
   "metadata": {
    "deletable": false,
    "editable": false,
    "nbgrader": {
     "cell_type": "markdown",
     "checksum": "7572c89cccdb5f86089bebd51e9bc9b4",
     "grade": false,
     "grade_id": "cell-5488aab72fc3cec3",
     "locked": true,
     "schema_version": 3,
     "solution": false,
     "task": false
    }
   },
   "source": [
    "Calculate the result of 3 divided by 0.3 and save it in a variable named 'q3', then print it out."
   ]
  },
  {
   "cell_type": "code",
   "execution_count": 7,
   "metadata": {
    "deletable": false,
    "name": "integer_divide",
    "nbgrader": {
     "cell_type": "code",
     "checksum": "607420d4cafa29185233ff0f8326a32f",
     "grade": false,
     "grade_id": "q3",
     "locked": false,
     "schema_version": 3,
     "solution": true,
     "task": false
    }
   },
   "outputs": [
    {
     "name": "stdout",
     "output_type": "stream",
     "text": [
      "10.0\n"
     ]
    }
   ],
   "source": [
    "# your code here\n",
    "\n",
    "q3 =  3 / 0.3\n",
    "\n",
    "print(q3)"
   ]
  },
  {
   "cell_type": "code",
   "execution_count": 8,
   "metadata": {
    "deletable": false,
    "editable": false,
    "nbgrader": {
     "cell_type": "code",
     "checksum": "4742232504148f17936bd83bfe15c139",
     "grade": true,
     "grade_id": "q3_test",
     "locked": true,
     "points": 1,
     "schema_version": 3,
     "solution": false,
     "task": false
    }
   },
   "outputs": [
    {
     "name": "stdout",
     "output_type": "stream",
     "text": [
      "Success!\n"
     ]
    }
   ],
   "source": [
    "##########################\n",
    "### TEST YOUR SOLUTION ###\n",
    "##########################\n",
    "\n",
    "assert_equal(q3, sol.q3)\n",
    "print(\"Success!\")"
   ]
  },
  {
   "cell_type": "markdown",
   "metadata": {
    "deletable": false,
    "editable": false,
    "nbgrader": {
     "cell_type": "markdown",
     "checksum": "7d729b6ea0603fbbb1ad7868b2583d6f",
     "grade": false,
     "grade_id": "cell-efdaaf59afc25d2d",
     "locked": true,
     "schema_version": 3,
     "solution": false,
     "task": false
    }
   },
   "source": [
    "Calculate the remainder of 215 divided by 6 and save it in a variable named 'q4', then print it out."
   ]
  },
  {
   "cell_type": "code",
   "execution_count": 9,
   "metadata": {
    "deletable": false,
    "name": "modulo",
    "nbgrader": {
     "cell_type": "code",
     "checksum": "2b77aeb70cfac033cf14f5858bfe843e",
     "grade": false,
     "grade_id": "q4",
     "locked": false,
     "schema_version": 3,
     "solution": true,
     "task": false
    }
   },
   "outputs": [
    {
     "name": "stdout",
     "output_type": "stream",
     "text": [
      "5\n"
     ]
    }
   ],
   "source": [
    "# your code here\n",
    "\n",
    "q4 = 215 % 6\n",
    "\n",
    "print(q4)"
   ]
  },
  {
   "cell_type": "code",
   "execution_count": 10,
   "metadata": {
    "deletable": false,
    "editable": false,
    "nbgrader": {
     "cell_type": "code",
     "checksum": "a5e59b782d6e45971abe153af9403cb0",
     "grade": true,
     "grade_id": "q4_test",
     "locked": true,
     "points": 1,
     "schema_version": 3,
     "solution": false,
     "task": false
    }
   },
   "outputs": [
    {
     "name": "stdout",
     "output_type": "stream",
     "text": [
      "Success!\n"
     ]
    }
   ],
   "source": [
    "##########################\n",
    "### TEST YOUR SOLUTION ###\n",
    "##########################\n",
    "\n",
    "assert_equal(q4, sol.q4)\n",
    "print(\"Success!\")"
   ]
  },
  {
   "cell_type": "markdown",
   "metadata": {
    "deletable": false,
    "editable": false,
    "nbgrader": {
     "cell_type": "markdown",
     "checksum": "7f0a9760b01f3b51e71d9f683af102bb",
     "grade": false,
     "grade_id": "cell-8896e1042dd06e48",
     "locked": true,
     "schema_version": 3,
     "solution": false,
     "task": false
    }
   },
   "source": [
    "Calculate the value of 9 raised to the 12th power and save it in a variable named 'q5', then print it out."
   ]
  },
  {
   "cell_type": "code",
   "execution_count": 11,
   "metadata": {
    "deletable": false,
    "name": "exponentiation",
    "nbgrader": {
     "cell_type": "code",
     "checksum": "15e0f8a14ea727bb7297874014e16161",
     "grade": false,
     "grade_id": "q5",
     "locked": false,
     "schema_version": 3,
     "solution": true,
     "task": false
    }
   },
   "outputs": [
    {
     "name": "stdout",
     "output_type": "stream",
     "text": [
      "282429536481\n"
     ]
    }
   ],
   "source": [
    "# your code here\n",
    "\n",
    "q5 = 9 ** 12\n",
    "\n",
    "print(q5)"
   ]
  },
  {
   "cell_type": "code",
   "execution_count": 12,
   "metadata": {
    "deletable": false,
    "editable": false,
    "nbgrader": {
     "cell_type": "code",
     "checksum": "75a711b90a877dc19bedd09f51e73ed7",
     "grade": true,
     "grade_id": "q5_test",
     "locked": true,
     "points": 1,
     "schema_version": 3,
     "solution": false,
     "task": false
    }
   },
   "outputs": [
    {
     "name": "stdout",
     "output_type": "stream",
     "text": [
      "Success!\n"
     ]
    }
   ],
   "source": [
    "##########################\n",
    "### TEST YOUR SOLUTION ###\n",
    "##########################\n",
    "\n",
    "assert_equal(q5, sol.q5)\n",
    "print(\"Success!\")"
   ]
  },
  {
   "cell_type": "markdown",
   "metadata": {
    "deletable": false,
    "editable": false,
    "nbgrader": {
     "cell_type": "markdown",
     "checksum": "5aa4851acc1911d1466c2992252176a9",
     "grade": false,
     "grade_id": "cell-0139553c89cf0f53",
     "locked": true,
     "schema_version": 3,
     "solution": false,
     "task": false
    }
   },
   "source": [
    "Calculate the nearest integer of 3.5 (convert 3.5 to an integer) and save it in a variable named 'q6', then print it out."
   ]
  },
  {
   "cell_type": "code",
   "execution_count": 13,
   "metadata": {
    "deletable": false,
    "name": "rounding",
    "nbgrader": {
     "cell_type": "code",
     "checksum": "2dd6e109a33eba2cc3aa76b2d8f6dd1c",
     "grade": false,
     "grade_id": "q6",
     "locked": false,
     "schema_version": 3,
     "solution": true,
     "task": false
    }
   },
   "outputs": [
    {
     "name": "stdout",
     "output_type": "stream",
     "text": [
      "3\n"
     ]
    }
   ],
   "source": [
    "# your code here\n",
    "\n",
    "q6 = int(3.5)\n",
    "\n",
    "print(q6)"
   ]
  },
  {
   "cell_type": "code",
   "execution_count": 14,
   "metadata": {
    "deletable": false,
    "editable": false,
    "nbgrader": {
     "cell_type": "code",
     "checksum": "e78828187fc6745897a06c54e5616c5c",
     "grade": true,
     "grade_id": "q6_test",
     "locked": true,
     "points": 1,
     "schema_version": 3,
     "solution": false,
     "task": false
    }
   },
   "outputs": [
    {
     "name": "stdout",
     "output_type": "stream",
     "text": [
      "Success!\n"
     ]
    }
   ],
   "source": [
    "##########################\n",
    "### TEST YOUR SOLUTION ###\n",
    "##########################\n",
    "\n",
    "assert_equal(q6, sol.q6)\n",
    "print(\"Success!\")"
   ]
  },
  {
   "cell_type": "markdown",
   "metadata": {
    "deletable": false,
    "editable": false,
    "nbgrader": {
     "cell_type": "markdown",
     "checksum": "c604dd5cad712a61afc86df6842dcd72",
     "grade": false,
     "grade_id": "cell-3ab3e40f63c085a0",
     "locked": true,
     "schema_version": 3,
     "solution": false,
     "task": false
    }
   },
   "source": [
    "## Data Types Practice"
   ]
  },
  {
   "cell_type": "markdown",
   "metadata": {
    "deletable": false,
    "editable": false,
    "nbgrader": {
     "cell_type": "markdown",
     "checksum": "08bb92d342f45e05b234a8699c97d206",
     "grade": false,
     "grade_id": "cell-e12417f1cbcb557b",
     "locked": true,
     "schema_version": 3,
     "solution": false,
     "task": false
    }
   },
   "source": [
    "Calculate the data type of `\"False\"` (notice the **quotes** around the word False!) and save it in a variable named 'q7', then print it out."
   ]
  },
  {
   "cell_type": "code",
   "execution_count": 15,
   "metadata": {
    "deletable": false,
    "name": "type_string",
    "nbgrader": {
     "cell_type": "code",
     "checksum": "2fd5d79f12e1d63a62de33451c6582f8",
     "grade": false,
     "grade_id": "q7",
     "locked": false,
     "schema_version": 3,
     "solution": true,
     "task": false
    }
   },
   "outputs": [
    {
     "name": "stdout",
     "output_type": "stream",
     "text": [
      "<class 'str'>\n"
     ]
    }
   ],
   "source": [
    "# your code here\n",
    "\n",
    "q7 = type(\"False\")\n",
    "\n",
    "print(q7)"
   ]
  },
  {
   "cell_type": "code",
   "execution_count": 16,
   "metadata": {
    "deletable": false,
    "editable": false,
    "nbgrader": {
     "cell_type": "code",
     "checksum": "d3febd88ec284c385fe01fd8878f9bd0",
     "grade": true,
     "grade_id": "q7_test",
     "locked": true,
     "points": 1,
     "schema_version": 3,
     "solution": false,
     "task": false
    }
   },
   "outputs": [
    {
     "name": "stdout",
     "output_type": "stream",
     "text": [
      "Success!\n"
     ]
    }
   ],
   "source": [
    "##########################\n",
    "### TEST YOUR SOLUTION ###\n",
    "##########################\n",
    "\n",
    "assert_equal(q7, sol.q7)\n",
    "print(\"Success!\")"
   ]
  },
  {
   "cell_type": "markdown",
   "metadata": {
    "deletable": false,
    "editable": false,
    "nbgrader": {
     "cell_type": "markdown",
     "checksum": "3f79a7a78600104ce41aaa9f53d7155e",
     "grade": false,
     "grade_id": "cell-cbcb6f6b2e179233",
     "locked": true,
     "schema_version": 3,
     "solution": false,
     "task": false
    }
   },
   "source": [
    "Calculate the data type of True and save it in a variable named 'q8', then print it out."
   ]
  },
  {
   "cell_type": "code",
   "execution_count": 17,
   "metadata": {
    "deletable": false,
    "name": "type_bool",
    "nbgrader": {
     "cell_type": "code",
     "checksum": "9642ec668e512b9645065b565b9ea6e8",
     "grade": false,
     "grade_id": "q8",
     "locked": false,
     "schema_version": 3,
     "solution": true,
     "task": false
    }
   },
   "outputs": [
    {
     "name": "stdout",
     "output_type": "stream",
     "text": [
      "<class 'bool'>\n"
     ]
    }
   ],
   "source": [
    "# your code here\n",
    "\n",
    "q8 = type(True)\n",
    "\n",
    "print(q8)"
   ]
  },
  {
   "cell_type": "code",
   "execution_count": 18,
   "metadata": {
    "deletable": false,
    "editable": false,
    "nbgrader": {
     "cell_type": "code",
     "checksum": "31db69a6e79b2c20133cf6260e83f239",
     "grade": true,
     "grade_id": "q8_test",
     "locked": true,
     "points": 1,
     "schema_version": 3,
     "solution": false,
     "task": false
    }
   },
   "outputs": [
    {
     "name": "stdout",
     "output_type": "stream",
     "text": [
      "Success!\n"
     ]
    }
   ],
   "source": [
    "##########################\n",
    "### TEST YOUR SOLUTION ###\n",
    "##########################\n",
    "\n",
    "assert_equal(q8, sol.q8)\n",
    "print(\"Success!\")"
   ]
  },
  {
   "cell_type": "markdown",
   "metadata": {
    "deletable": false,
    "editable": false,
    "nbgrader": {
     "cell_type": "markdown",
     "checksum": "263d09674fc5cc0b73ac76953267386e",
     "grade": false,
     "grade_id": "cell-d27bf796ebe6da39",
     "locked": true,
     "schema_version": 3,
     "solution": false,
     "task": false
    }
   },
   "source": [
    "Calculate the data type of the result of 1000 divided by 10 and save it in a variable named 'q9', then print it out."
   ]
  },
  {
   "cell_type": "code",
   "execution_count": 19,
   "metadata": {
    "deletable": false,
    "name": "type_float",
    "nbgrader": {
     "cell_type": "code",
     "checksum": "e9ad565ff1f88a964bb095e8ef9d5e9b",
     "grade": false,
     "grade_id": "q9",
     "locked": false,
     "schema_version": 3,
     "solution": true,
     "task": false
    }
   },
   "outputs": [
    {
     "name": "stdout",
     "output_type": "stream",
     "text": [
      "<class 'float'>\n"
     ]
    }
   ],
   "source": [
    "# your code here\n",
    "\n",
    "q9 = type(1000 / 10 )\n",
    "\n",
    "print(q9)"
   ]
  },
  {
   "cell_type": "code",
   "execution_count": 20,
   "metadata": {
    "deletable": false,
    "editable": false,
    "nbgrader": {
     "cell_type": "code",
     "checksum": "e6edd6d0377f4af5e0cb3920b0fa152e",
     "grade": true,
     "grade_id": "q9_test",
     "locked": true,
     "points": 1,
     "schema_version": 3,
     "solution": false,
     "task": false
    }
   },
   "outputs": [
    {
     "name": "stdout",
     "output_type": "stream",
     "text": [
      "Success!\n"
     ]
    }
   ],
   "source": [
    "##########################\n",
    "### TEST YOUR SOLUTION ###\n",
    "##########################\n",
    "\n",
    "assert_equal(q9, sol.q9)\n",
    "print(\"Success!\")"
   ]
  },
  {
   "cell_type": "markdown",
   "metadata": {
    "deletable": false,
    "editable": false,
    "nbgrader": {
     "cell_type": "markdown",
     "checksum": "c806e99e1d3a4dec781c9cc789187f5f",
     "grade": false,
     "grade_id": "cell-916a113950ea490f",
     "locked": true,
     "schema_version": 3,
     "solution": false,
     "task": false
    }
   },
   "source": [
    "Cast the value of 6.3 divided by 3.8 to an integer. Save it in a variable named 'q10', then print it out."
   ]
  },
  {
   "cell_type": "code",
   "execution_count": 21,
   "metadata": {
    "deletable": false,
    "name": "int_rounding",
    "nbgrader": {
     "cell_type": "code",
     "checksum": "500fa2981cec73308f4a1d653688b467",
     "grade": false,
     "grade_id": "q10",
     "locked": false,
     "schema_version": 3,
     "solution": true,
     "task": false
    }
   },
   "outputs": [
    {
     "name": "stdout",
     "output_type": "stream",
     "text": [
      "1\n"
     ]
    }
   ],
   "source": [
    "# your code here\n",
    "\n",
    "q10 = int(6.3 / 3.8) \n",
    "\n",
    "print(q10)"
   ]
  },
  {
   "cell_type": "code",
   "execution_count": 22,
   "metadata": {
    "deletable": false,
    "editable": false,
    "nbgrader": {
     "cell_type": "code",
     "checksum": "6cdfd5e30249d0c08e8299e1854bdb3c",
     "grade": true,
     "grade_id": "q10_test",
     "locked": true,
     "points": 1,
     "schema_version": 3,
     "solution": false,
     "task": false
    }
   },
   "outputs": [
    {
     "name": "stdout",
     "output_type": "stream",
     "text": [
      "Success!\n"
     ]
    }
   ],
   "source": [
    "##########################\n",
    "### TEST YOUR SOLUTION ###\n",
    "##########################\n",
    "\n",
    "assert_equal(q10, sol.q10)\n",
    "print(\"Success!\")"
   ]
  },
  {
   "cell_type": "markdown",
   "metadata": {
    "deletable": false,
    "editable": false,
    "nbgrader": {
     "cell_type": "markdown",
     "checksum": "5887d254aa59c8da43930ba57d0635b9",
     "grade": false,
     "grade_id": "cell-6ffb6c072b2adcb3",
     "locked": true,
     "schema_version": 3,
     "solution": false,
     "task": false
    }
   },
   "source": [
    "## String Practice"
   ]
  },
  {
   "cell_type": "markdown",
   "metadata": {
    "deletable": false,
    "editable": false,
    "nbgrader": {
     "cell_type": "markdown",
     "checksum": "9be558e94f3f8c769e04478f69200f6f",
     "grade": false,
     "grade_id": "cell-6553b20e0e5b9f47",
     "locked": true,
     "schema_version": 3,
     "solution": false,
     "task": false
    }
   },
   "source": [
    "Concatenate the strings 'James', 'Brian', and 'Patrick' - store the result in a variable called 'q11', then print it out. Make sure to add a single empty space between the names!"
   ]
  },
  {
   "cell_type": "code",
   "execution_count": 26,
   "metadata": {
    "deletable": false,
    "name": "print_str_list",
    "nbgrader": {
     "cell_type": "code",
     "checksum": "5a443e417dacc47504d941c2cdcc1b42",
     "grade": false,
     "grade_id": "q11",
     "locked": false,
     "schema_version": 3,
     "solution": true,
     "task": false
    }
   },
   "outputs": [
    {
     "name": "stdout",
     "output_type": "stream",
     "text": [
      "James Brian Patrick\n"
     ]
    }
   ],
   "source": [
    "# your code here\n",
    "\n",
    "q11 = 'James'+ ' '+ 'Brian'+ ' '+'Patrick'\n",
    "\n",
    "print(q11)"
   ]
  },
  {
   "cell_type": "code",
   "execution_count": 27,
   "metadata": {
    "deletable": false,
    "editable": false,
    "nbgrader": {
     "cell_type": "code",
     "checksum": "78050aabbc30167ac68246cc232b7216",
     "grade": true,
     "grade_id": "q11_test",
     "locked": true,
     "points": 1,
     "schema_version": 3,
     "solution": false,
     "task": false
    }
   },
   "outputs": [
    {
     "name": "stdout",
     "output_type": "stream",
     "text": [
      "Success!\n"
     ]
    }
   ],
   "source": [
    "##########################\n",
    "### TEST YOUR SOLUTION ###\n",
    "##########################\n",
    "\n",
    "assert_equal(q11, sol.q11)\n",
    "print(\"Success!\")"
   ]
  },
  {
   "cell_type": "markdown",
   "metadata": {
    "deletable": false,
    "editable": false,
    "nbgrader": {
     "cell_type": "markdown",
     "checksum": "a8f98a27856863e4947321600b9084bd",
     "grade": false,
     "grade_id": "cell-f29b70434b50fb59",
     "locked": true,
     "schema_version": 3,
     "solution": false,
     "task": false
    }
   },
   "source": [
    "Make the following string correct, storing it in a variable named 'q12':<br />\n",
    "`q12 = \"4 % 2 = \" + (4 % 2))`"
   ]
  },
  {
   "cell_type": "code",
   "execution_count": 29,
   "metadata": {
    "deletable": false,
    "name": "print_str_calc",
    "nbgrader": {
     "cell_type": "code",
     "checksum": "1428b4ad76506f0f3dc3cf9adc1a9c1e",
     "grade": false,
     "grade_id": "q12",
     "locked": false,
     "schema_version": 3,
     "solution": true,
     "task": false
    }
   },
   "outputs": [
    {
     "name": "stdout",
     "output_type": "stream",
     "text": [
      "4 % 2 = 0\n"
     ]
    }
   ],
   "source": [
    "# your code here\n",
    "\n",
    "q12 = \"4 % 2 = \" + str(4 % 2)\n",
    "\n",
    "print(q12)"
   ]
  },
  {
   "cell_type": "code",
   "execution_count": 30,
   "metadata": {
    "deletable": false,
    "editable": false,
    "nbgrader": {
     "cell_type": "code",
     "checksum": "1e23b52399a34f0413b89d779b68b5fa",
     "grade": true,
     "grade_id": "q12_test",
     "locked": true,
     "points": 1,
     "schema_version": 3,
     "solution": false,
     "task": false
    }
   },
   "outputs": [
    {
     "name": "stdout",
     "output_type": "stream",
     "text": [
      "Success!\n"
     ]
    }
   ],
   "source": [
    "##########################\n",
    "### TEST YOUR SOLUTION ###\n",
    "##########################\n",
    "\n",
    "assert_equal(q12, sol.q12)\n",
    "print(\"Success!\")"
   ]
  },
  {
   "cell_type": "markdown",
   "metadata": {
    "deletable": false,
    "editable": false,
    "nbgrader": {
     "cell_type": "markdown",
     "checksum": "2ba166b158e0bbdee8d6aa96eb3d72f0",
     "grade": false,
     "grade_id": "cell-f8a8772682445732",
     "locked": true,
     "schema_version": 3,
     "solution": false,
     "task": false
    }
   },
   "source": [
    "Save the following quote, (including the double quotes), in a variable called 'q13', then print it:<br />\n",
    "Albert Einstein's best quote is \"I have no special talent. I am only passionately curious.\""
   ]
  },
  {
   "cell_type": "code",
   "execution_count": 36,
   "metadata": {
    "deletable": false,
    "name": "print_str_escape",
    "nbgrader": {
     "cell_type": "code",
     "checksum": "81458c05dbcaf2509ea099e0ca1d7d62",
     "grade": false,
     "grade_id": "q13",
     "locked": false,
     "schema_version": 3,
     "solution": true,
     "task": false
    }
   },
   "outputs": [
    {
     "name": "stdout",
     "output_type": "stream",
     "text": [
      "Albert Einstein's best quote is \"I have no special talent. I am only passionately curious.\"\n"
     ]
    }
   ],
   "source": [
    "# your code here\n",
    "\n",
    "q13 = 'Albert Einstein\\'s best quote is \\\"I have no special talent. I am only passionately curious.\\\"'\n",
    "\n",
    "print(q13)"
   ]
  },
  {
   "cell_type": "code",
   "execution_count": 37,
   "metadata": {
    "deletable": false,
    "editable": false,
    "nbgrader": {
     "cell_type": "code",
     "checksum": "a7263d4f00d8d8f5feff1fd83aa4c753",
     "grade": true,
     "grade_id": "q13_test",
     "locked": true,
     "points": 1,
     "schema_version": 3,
     "solution": false,
     "task": false
    }
   },
   "outputs": [
    {
     "name": "stdout",
     "output_type": "stream",
     "text": [
      "Success!\n"
     ]
    }
   ],
   "source": [
    "##########################\n",
    "### TEST YOUR SOLUTION ###\n",
    "##########################\n",
    "\n",
    "assert_equal(q13, sol.q13)\n",
    "print(\"Success!\")"
   ]
  },
  {
   "cell_type": "code",
   "execution_count": null,
   "metadata": {},
   "outputs": [],
   "source": []
  }
 ],
 "metadata": {
  "kernelspec": {
   "display_name": "Python 3",
   "language": "python",
   "name": "python3"
  },
  "language_info": {
   "codemirror_mode": {
    "name": "ipython",
    "version": 3
   },
   "file_extension": ".py",
   "mimetype": "text/x-python",
   "name": "python",
   "nbconvert_exporter": "python",
   "pygments_lexer": "ipython3",
   "version": "3.7.6"
  }
 },
 "nbformat": 4,
 "nbformat_minor": 2
}
